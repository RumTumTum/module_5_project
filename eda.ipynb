{
 "cells": [
  {
   "cell_type": "code",
   "execution_count": 1,
   "metadata": {},
   "outputs": [],
   "source": [
    "import psycopg2 as pg\n",
    "import pandas as pd\n",
    "import matplotlib.pyplot as plt\n",
    "import numpy as np\n",
    "import seaborn as sns\n",
    "%matplotlib inline"
   ]
  },
  {
   "cell_type": "code",
   "execution_count": 2,
   "metadata": {},
   "outputs": [],
   "source": [
    "columns_business = [\n",
    "'business_id',\n",
    "# 'name',\n",
    "# 'address',\n",
    "'city',\n",
    "'state',\n",
    "'postal_code',\n",
    "'latitude',\n",
    "'longitude',\n",
    "# 'stars',\n",
    "'review_count',\n",
    "'attributes_goodforkids',\n",
    "#'categories',   further processing\n",
    "'is_open',\n",
    "# 'hours_monday',\n",
    "# 'hours_tuesday',\n",
    "# 'hours_wednesday',\n",
    "# 'hours_thursday',\n",
    "# 'hours_friday',\n",
    "# 'hours_saturday',\n",
    "# 'hours_sunday',\n",
    "'attributes_restaurantsreservations',\n",
    "# 'attributes_goodformeal',\n",
    "# 'attributes_businessparking',\n",
    "'attributes_caters',\n",
    "'attributes_noiselevel',\n",
    "'attributes_restaurantstableservice',\n",
    "'attributes_restaurantstakeout',\n",
    "'attributes_restaurantspricerange2',\n",
    "'attributes_outdoorseating',\n",
    "'attributes_bikeparking',\n",
    "# 'attributes_ambience',\n",
    "'attributes_hastv',\n",
    "'attributes_wifi',\n",
    "'attributes_alcohol',\n",
    "'attributes_restaurantsattire',\n",
    "'attributes_restaurantsgoodforgroups',\n",
    "'attributes_restaurantsdelivery',\n",
    "'attributes_businessacceptscreditcards',\n",
    "'attributes_businessacceptsbitcoin',\n",
    "#'attributes_byappointmentonly',\n",
    "#'attributes_acceptsinsurance',\n",
    "# 'attributes_music',\n",
    "'attributes_goodfordancing',\n",
    "'attributes_coatcheck',\n",
    "'attributes_happyhour',\n",
    "# 'attributes_bestnights',\n",
    "'attributes_wheelchairaccessible',\n",
    "'attributes_dogsallowed',\n",
    "# 'attributes_byobcorkage',\n",
    "'attributes_drivethru',\n",
    "'attributes_smoking',\n",
    "#'attributes_agesallowed',\n",
    "#'attributes_hairspecializesin',\n",
    "#'attributes_corkage',\n",
    "#'attributes_byob',\n",
    "#'attributes_dietaryrestrictions', further processing\n",
    "#'attributes_open24hours',\n",
    "#'attributes_restaurantscounterservice',\n",
    "'restaurant']"
   ]
  },
  {
   "cell_type": "code",
   "execution_count": 3,
   "metadata": {},
   "outputs": [],
   "source": [
    "list_as_string =', '.join(columns_business)"
   ]
  },
  {
   "cell_type": "code",
   "execution_count": 4,
   "metadata": {},
   "outputs": [],
   "source": [
    "con = pg.connect(database=\"postgres\", user=\"flatiron_user_1\", password=\"K*%4t3VK0ab%gn\", host=\"34.74.239.44\", port=\"5432\")\n",
    "cur = con.cursor()\n",
    "\n",
    "u_cutoff=87\n",
    "l_cutoff=10"
   ]
  },
  {
   "cell_type": "code",
   "execution_count": 5,
   "metadata": {},
   "outputs": [],
   "source": [
    "\n",
    "cur.execute(f\"SELECT {list_as_string} FROM business WHERE restaurant IS true AND REVIEW_COUNT < {u_cutoff} AND REVIEW_COUNT > {l_cutoff}\")\n",
    "dataframe=cur.fetchall()"
   ]
  },
  {
   "cell_type": "code",
   "execution_count": 6,
   "metadata": {},
   "outputs": [],
   "source": [
    "dataframe=pd.DataFrame(dataframe)\n",
    "dataframe.columns=columns_business\n"
   ]
  },
  {
   "cell_type": "code",
   "execution_count": 7,
   "metadata": {},
   "outputs": [],
   "source": [
    "# plt.figure(figsize=(16,10))\n",
    "# sns.heatmap(dataframe.isna())"
   ]
  },
  {
   "cell_type": "code",
   "execution_count": 8,
   "metadata": {},
   "outputs": [
    {
     "data": {
      "text/plain": [
       "business_id                              0.000000\n",
       "city                                     0.000000\n",
       "state                                    0.000000\n",
       "postal_code                              0.000000\n",
       "latitude                                 0.000000\n",
       "longitude                                0.000000\n",
       "review_count                             0.000000\n",
       "attributes_goodforkids                   0.259743\n",
       "is_open                                  0.000000\n",
       "attributes_restaurantsreservations       0.268462\n",
       "attributes_caters                        0.414482\n",
       "attributes_noiselevel                    0.350843\n",
       "attributes_restaurantstableservice       0.761391\n",
       "attributes_restaurantstakeout            0.153357\n",
       "attributes_restaurantspricerange2        0.050906\n",
       "attributes_outdoorseating                0.218061\n",
       "attributes_bikeparking                   0.213781\n",
       "attributes_hastv                         0.290473\n",
       "attributes_wifi                          0.318784\n",
       "attributes_alcohol                       0.298474\n",
       "attributes_restaurantsattire             0.314743\n",
       "attributes_restaurantsgoodforgroups      0.239965\n",
       "attributes_restaurantsdelivery           0.273034\n",
       "attributes_businessacceptscreditcards    0.358100\n",
       "attributes_businessacceptsbitcoin        0.945000\n",
       "attributes_goodfordancing                0.939311\n",
       "attributes_coatcheck                     0.955048\n",
       "attributes_happyhour                     0.931203\n",
       "attributes_wheelchairaccessible          0.862380\n",
       "attributes_dogsallowed                   0.936201\n",
       "attributes_drivethru                     0.952204\n",
       "attributes_smoking                       0.957786\n",
       "restaurant                               0.000000\n",
       "dtype: float64"
      ]
     },
     "execution_count": 8,
     "metadata": {},
     "output_type": "execute_result"
    }
   ],
   "source": [
    "np.mean(dataframe.isnull(), axis=0)"
   ]
  },
  {
   "cell_type": "code",
   "execution_count": 9,
   "metadata": {},
   "outputs": [
    {
     "data": {
      "text/plain": [
       "business_id                              37618\n",
       "city                                       552\n",
       "state                                       11\n",
       "postal_code                               7175\n",
       "latitude                                 34993\n",
       "longitude                                34729\n",
       "review_count                                76\n",
       "attributes_goodforkids                       3\n",
       "is_open                                      2\n",
       "attributes_restaurantsreservations           3\n",
       "attributes_caters                            3\n",
       "attributes_noiselevel                        9\n",
       "attributes_restaurantstableservice           3\n",
       "attributes_restaurantstakeout                3\n",
       "attributes_restaurantspricerange2            5\n",
       "attributes_outdoorseating                    3\n",
       "attributes_bikeparking                       3\n",
       "attributes_hastv                             3\n",
       "attributes_wifi                              7\n",
       "attributes_alcohol                           7\n",
       "attributes_restaurantsattire                 7\n",
       "attributes_restaurantsgoodforgroups          3\n",
       "attributes_restaurantsdelivery               3\n",
       "attributes_businessacceptscreditcards        3\n",
       "attributes_businessacceptsbitcoin            2\n",
       "attributes_goodfordancing                    3\n",
       "attributes_coatcheck                         3\n",
       "attributes_happyhour                         3\n",
       "attributes_wheelchairaccessible              3\n",
       "attributes_dogsallowed                       3\n",
       "attributes_drivethru                         2\n",
       "attributes_smoking                           7\n",
       "restaurant                                   1\n",
       "dtype: int64"
      ]
     },
     "execution_count": 9,
     "metadata": {},
     "output_type": "execute_result"
    }
   ],
   "source": [
    "dataframe.nunique()"
   ]
  },
  {
   "cell_type": "code",
   "execution_count": 10,
   "metadata": {},
   "outputs": [
    {
     "data": {
      "text/plain": [
       "u'no'         762\n",
       "u'outdoor'    636\n",
       "u'yes'        173\n",
       "'no'            8\n",
       "'outdoor'       4\n",
       "None            4\n",
       "'yes'           1\n",
       "Name: attributes_smoking, dtype: int64"
      ]
     },
     "execution_count": 10,
     "metadata": {},
     "output_type": "execute_result"
    }
   ],
   "source": [
    "dataframe.attributes_restaurantsreservations.value_counts()\n",
    "dataframe.attributes_smoking.value_counts()"
   ]
  },
  {
   "cell_type": "code",
   "execution_count": 11,
   "metadata": {},
   "outputs": [],
   "source": [
    "list_to_strip=[\n",
    "    'attributes_alcohol',\n",
    "    'attributes_restaurantsattire',\n",
    "    'attributes_wifi',\n",
    "    'attributes_smoking',\n",
    "    'attributes_noiselevel',\n",
    "              ]\n",
    "dataframe2=dataframe.copy()\n",
    "for col in list_to_strip:\n",
    "    dataframe2[col]=dataframe2[col].str.strip(\"u\\'\")"
   ]
  },
  {
   "cell_type": "code",
   "execution_count": 12,
   "metadata": {},
   "outputs": [
    {
     "name": "stderr",
     "output_type": "stream",
     "text": [
      "/home/will/anaconda3/envs/learn-env/lib/python3.6/site-packages/pandas/core/ops/__init__.py:1115: FutureWarning: elementwise comparison failed; returning scalar instead, but in the future will perform elementwise comparison\n",
      "  result = method(y)\n"
     ]
    }
   ],
   "source": [
    "for col in columns_business:\n",
    "    dataframe2[col]=dataframe2[col].where(dataframe2[col]!='None')\n",
    "    dataframe2[col]=dataframe2[col].where(dataframe2[col]!='none')\n"
   ]
  },
  {
   "cell_type": "code",
   "execution_count": null,
   "metadata": {},
   "outputs": [],
   "source": []
  },
  {
   "cell_type": "code",
   "execution_count": 79,
   "metadata": {},
   "outputs": [
    {
     "data": {
      "text/plain": [
       "4"
      ]
     },
     "execution_count": 79,
     "metadata": {},
     "output_type": "execute_result"
    }
   ],
   "source": [
    "dataframe2.attributes_restaurantstakeout.nunique(dropna=False)"
   ]
  },
  {
   "cell_type": "markdown",
   "metadata": {},
   "source": []
  },
  {
   "cell_type": "code",
   "execution_count": null,
   "metadata": {},
   "outputs": [],
   "source": []
  },
  {
   "cell_type": "code",
   "execution_count": 68,
   "metadata": {},
   "outputs": [
    {
     "data": {
      "text/plain": [
       "True     29382\n",
       "NaN       5786\n",
       "False     2450\n",
       "Name: attributes_restaurantstakeout, dtype: int64"
      ]
     },
     "execution_count": 68,
     "metadata": {},
     "output_type": "execute_result"
    }
   ],
   "source": [
    "dataframe2.attributes_restaurantstakeout.value_counts(dropna=False)\n"
   ]
  },
  {
   "cell_type": "code",
   "execution_count": 40,
   "metadata": {},
   "outputs": [
    {
     "data": {
      "text/html": [
       "<div>\n",
       "<style scoped>\n",
       "    .dataframe tbody tr th:only-of-type {\n",
       "        vertical-align: middle;\n",
       "    }\n",
       "\n",
       "    .dataframe tbody tr th {\n",
       "        vertical-align: top;\n",
       "    }\n",
       "\n",
       "    .dataframe thead th {\n",
       "        text-align: right;\n",
       "    }\n",
       "</style>\n",
       "<table border=\"1\" class=\"dataframe\">\n",
       "  <thead>\n",
       "    <tr style=\"text-align: right;\">\n",
       "      <th></th>\n",
       "      <th>business_id</th>\n",
       "      <th>city</th>\n",
       "      <th>state</th>\n",
       "      <th>postal_code</th>\n",
       "      <th>latitude</th>\n",
       "      <th>longitude</th>\n",
       "      <th>review_count</th>\n",
       "      <th>attributes_goodforkids</th>\n",
       "      <th>is_open</th>\n",
       "      <th>attributes_restaurantsreservations</th>\n",
       "      <th>...</th>\n",
       "      <th>attributes_businessacceptscreditcards</th>\n",
       "      <th>attributes_businessacceptsbitcoin</th>\n",
       "      <th>attributes_goodfordancing</th>\n",
       "      <th>attributes_coatcheck</th>\n",
       "      <th>attributes_happyhour</th>\n",
       "      <th>attributes_wheelchairaccessible</th>\n",
       "      <th>attributes_dogsallowed</th>\n",
       "      <th>attributes_drivethru</th>\n",
       "      <th>attributes_smoking</th>\n",
       "      <th>restaurant</th>\n",
       "    </tr>\n",
       "  </thead>\n",
       "  <tbody>\n",
       "  </tbody>\n",
       "</table>\n",
       "<p>0 rows × 33 columns</p>\n",
       "</div>"
      ],
      "text/plain": [
       "Empty DataFrame\n",
       "Columns: [business_id, city, state, postal_code, latitude, longitude, review_count, attributes_goodforkids, is_open, attributes_restaurantsreservations, attributes_caters, attributes_noiselevel, attributes_restaurantstableservice, attributes_restaurantstakeout, attributes_restaurantspricerange2, attributes_outdoorseating, attributes_bikeparking, attributes_hastv, attributes_wifi, attributes_alcohol, attributes_restaurantsattire, attributes_restaurantsgoodforgroups, attributes_restaurantsdelivery, attributes_businessacceptscreditcards, attributes_businessacceptsbitcoin, attributes_goodfordancing, attributes_coatcheck, attributes_happyhour, attributes_wheelchairaccessible, attributes_dogsallowed, attributes_drivethru, attributes_smoking, restaurant]\n",
       "Index: []\n",
       "\n",
       "[0 rows x 33 columns]"
      ]
     },
     "execution_count": 40,
     "metadata": {},
     "output_type": "execute_result"
    }
   ],
   "source": []
  },
  {
   "cell_type": "code",
   "execution_count": 15,
   "metadata": {},
   "outputs": [
    {
     "data": {
      "text/plain": [
       "business_id                              37618\n",
       "city                                       552\n",
       "state                                       11\n",
       "postal_code                               7175\n",
       "latitude                                 34993\n",
       "longitude                                34729\n",
       "review_count                                76\n",
       "attributes_goodforkids                       3\n",
       "is_open                                      2\n",
       "attributes_restaurantsreservations           3\n",
       "attributes_caters                            3\n",
       "attributes_noiselevel                        5\n",
       "attributes_restaurantstableservice           3\n",
       "attributes_restaurantstakeout                3\n",
       "attributes_restaurantspricerange2            5\n",
       "attributes_outdoorseating                    3\n",
       "attributes_bikeparking                       3\n",
       "attributes_hastv                             3\n",
       "attributes_wifi                              4\n",
       "attributes_alcohol                           3\n",
       "attributes_restaurantsattire                 4\n",
       "attributes_restaurantsgoodforgroups          3\n",
       "attributes_restaurantsdelivery               3\n",
       "attributes_businessacceptscreditcards        3\n",
       "attributes_businessacceptsbitcoin            2\n",
       "attributes_goodfordancing                    3\n",
       "attributes_coatcheck                         3\n",
       "attributes_happyhour                         3\n",
       "attributes_wheelchairaccessible              3\n",
       "attributes_dogsallowed                       3\n",
       "attributes_drivethru                         2\n",
       "attributes_smoking                           4\n",
       "restaurant                                   1\n",
       "dtype: int64"
      ]
     },
     "execution_count": 15,
     "metadata": {},
     "output_type": "execute_result"
    }
   ],
   "source": [
    "dataframe2.nunique()"
   ]
  },
  {
   "cell_type": "code",
   "execution_count": 16,
   "metadata": {},
   "outputs": [
    {
     "ename": "NameError",
     "evalue": "name 'review_counts' is not defined",
     "output_type": "error",
     "traceback": [
      "\u001b[0;31m---------------------------------------------------------------------------\u001b[0m",
      "\u001b[0;31mNameError\u001b[0m                                 Traceback (most recent call last)",
      "\u001b[0;32m<ipython-input-16-b2e53e26105f>\u001b[0m in \u001b[0;36m<module>\u001b[0;34m()\u001b[0m\n\u001b[0;32m----> 1\u001b[0;31m \u001b[0mu_cutoff\u001b[0m\u001b[0;34m=\u001b[0m\u001b[0mnp\u001b[0m\u001b[0;34m.\u001b[0m\u001b[0mpercentile\u001b[0m\u001b[0;34m(\u001b[0m\u001b[0mreview_counts\u001b[0m\u001b[0;34m,\u001b[0m \u001b[0;36m85\u001b[0m\u001b[0;34m)\u001b[0m\u001b[0;34m\u001b[0m\u001b[0m\n\u001b[0m\u001b[1;32m      2\u001b[0m \u001b[0ml_cutoff\u001b[0m\u001b[0;34m=\u001b[0m\u001b[0;36m10\u001b[0m  \u001b[0;31m#np.percentile(review_counts, 20)\u001b[0m\u001b[0;34m\u001b[0m\u001b[0m\n\u001b[1;32m      3\u001b[0m \u001b[0ml_cutoff\u001b[0m\u001b[0;34m,\u001b[0m\u001b[0mu_cutoff\u001b[0m\u001b[0;34m\u001b[0m\u001b[0m\n",
      "\u001b[0;31mNameError\u001b[0m: name 'review_counts' is not defined"
     ]
    }
   ],
   "source": [
    "u_cutoff=np.percentile(review_counts, 85)\n",
    "l_cutoff=10  #np.percentile(review_counts, 20)\n",
    "l_cutoff,u_cutoff"
   ]
  },
  {
   "cell_type": "code",
   "execution_count": null,
   "metadata": {},
   "outputs": [],
   "source": [
    "cur.execute(f\"SELECT REVIEW_COUNT FROM BUSINESS WHERE restaurant IS true AND REVIEW_COUNT < {u_cutoff} AND REVIEW_COUNT > {l_cutoff}\")"
   ]
  },
  {
   "cell_type": "code",
   "execution_count": null,
   "metadata": {},
   "outputs": [],
   "source": [
    "review_counts2=cur.fetchall()"
   ]
  },
  {
   "cell_type": "code",
   "execution_count": null,
   "metadata": {},
   "outputs": [],
   "source": [
    "len(review_counts2)"
   ]
  },
  {
   "cell_type": "code",
   "execution_count": null,
   "metadata": {},
   "outputs": [],
   "source": [
    "plt.figure(figsize=(12,10))\n",
    "sns.boxplot(review_counts2);"
   ]
  },
  {
   "cell_type": "code",
   "execution_count": null,
   "metadata": {},
   "outputs": [],
   "source": [
    "con.close()"
   ]
  },
  {
   "cell_type": "code",
   "execution_count": null,
   "metadata": {},
   "outputs": [],
   "source": []
  },
  {
   "cell_type": "code",
   "execution_count": null,
   "metadata": {},
   "outputs": [],
   "source": []
  }
 ],
 "metadata": {
  "kernelspec": {
   "display_name": "Python [conda env:learn-env] *",
   "language": "python",
   "name": "conda-env-learn-env-py"
  },
  "language_info": {
   "codemirror_mode": {
    "name": "ipython",
    "version": 3
   },
   "file_extension": ".py",
   "mimetype": "text/x-python",
   "name": "python",
   "nbconvert_exporter": "python",
   "pygments_lexer": "ipython3",
   "version": "3.6.6"
  }
 },
 "nbformat": 4,
 "nbformat_minor": 4
}
