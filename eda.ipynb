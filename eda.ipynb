{
 "cells": [
  {
   "cell_type": "code",
   "execution_count": 1,
   "metadata": {},
   "outputs": [],
   "source": [
    "import psycopg2 as pg\n",
    "import pandas as pd\n",
    "import matplotlib.pyplot as plt\n",
    "import numpy as np\n",
    "import seaborn as sns\n",
    "from sklearn.model_selection import train_test_split, GridSearchCV\n",
    "from sklearn.pipeline import Pipeline\n",
    "from sklearn.preprocessing import StandardScaler, OneHotEncoder\n",
    "from sklearn.compose import ColumnTransformer, make_column_transformer\n",
    "from sklearn.linear_model import LogisticRegression\n",
    "%matplotlib inline"
   ]
  },
  {
   "cell_type": "code",
   "execution_count": 2,
   "metadata": {},
   "outputs": [],
   "source": [
    "columns_business = [\n",
    "'business_id',\n",
    "# 'name',\n",
    "# 'address',\n",
    "#'city',\n",
    "'state',\n",
    "#'postal_code',\n",
    "'latitude',\n",
    "'longitude',\n",
    "# 'stars',\n",
    "'review_count',\n",
    "'attributes_goodforkids',\n",
    "#'categories',   further processing\n",
    "'is_open',\n",
    "# 'hours_monday',\n",
    "# 'hours_tuesday',\n",
    "# 'hours_wednesday',\n",
    "# 'hours_thursday',\n",
    "# 'hours_friday',\n",
    "# 'hours_saturday',\n",
    "# 'hours_sunday',\n",
    "'attributes_restaurantsreservations',\n",
    "# 'attributes_goodformeal',\n",
    "# 'attributes_businessparking',\n",
    "'attributes_caters',\n",
    "'attributes_noiselevel',\n",
    "'attributes_restaurantstableservice',\n",
    "'attributes_restaurantstakeout',\n",
    "'attributes_restaurantspricerange2',\n",
    "'attributes_outdoorseating',\n",
    "'attributes_bikeparking',\n",
    "# 'attributes_ambience',\n",
    "'attributes_hastv',\n",
    "'attributes_wifi',\n",
    "'attributes_alcohol',\n",
    "'attributes_restaurantsattire',\n",
    "'attributes_restaurantsgoodforgroups',\n",
    "'attributes_restaurantsdelivery',\n",
    "'attributes_businessacceptscreditcards',\n",
    "'attributes_businessacceptsbitcoin',\n",
    "#'attributes_byappointmentonly',\n",
    "#'attributes_acceptsinsurance',\n",
    "# 'attributes_music',\n",
    "'attributes_goodfordancing',\n",
    "'attributes_coatcheck',\n",
    "'attributes_happyhour',\n",
    "# 'attributes_bestnights',\n",
    "'attributes_wheelchairaccessible',\n",
    "'attributes_dogsallowed',\n",
    "# 'attributes_byobcorkage',\n",
    "'attributes_drivethru',\n",
    "'attributes_smoking',\n",
    "#'attributes_agesallowed',\n",
    "#'attributes_hairspecializesin',\n",
    "#'attributes_corkage',\n",
    "#'attributes_byob',\n",
    "#'attributes_dietaryrestrictions', further processing\n",
    "#'attributes_open24hours',\n",
    "#'attributes_restaurantscounterservice',\n",
    "'restaurant']"
   ]
  },
  {
   "cell_type": "code",
   "execution_count": 3,
   "metadata": {},
   "outputs": [],
   "source": [
    "list_as_string =', '.join(columns_business)"
   ]
  },
  {
   "cell_type": "code",
   "execution_count": 4,
   "metadata": {},
   "outputs": [],
   "source": [
    "con = pg.connect(database=\"postgres\", user=\"flatiron_user_1\", password=\"K*%4t3VK0ab%gn\", host=\"34.74.239.44\", port=\"5432\")\n",
    "cur = con.cursor()\n",
    "\n",
    "u_cutoff=87\n",
    "l_cutoff=10"
   ]
  },
  {
   "cell_type": "code",
   "execution_count": 5,
   "metadata": {},
   "outputs": [],
   "source": [
    "\n",
    "cur.execute(f\"SELECT {list_as_string} FROM business WHERE restaurant IS true AND REVIEW_COUNT < {u_cutoff} AND REVIEW_COUNT > {l_cutoff}\")\n",
    "dataframe=cur.fetchall()"
   ]
  },
  {
   "cell_type": "code",
   "execution_count": 6,
   "metadata": {},
   "outputs": [],
   "source": [
    "dataframe=pd.DataFrame(dataframe)\n",
    "dataframe.columns=columns_business\n"
   ]
  },
  {
   "cell_type": "code",
   "execution_count": 7,
   "metadata": {},
   "outputs": [],
   "source": [
    "# plt.figure(figsize=(16,10))\n",
    "# sns.heatmap(dataframe.isna())"
   ]
  },
  {
   "cell_type": "code",
   "execution_count": 8,
   "metadata": {},
   "outputs": [
    {
     "data": {
      "text/plain": [
       "business_id                              0.000000\n",
       "city                                     0.000000\n",
       "state                                    0.000000\n",
       "postal_code                              0.000000\n",
       "latitude                                 0.000000\n",
       "longitude                                0.000000\n",
       "review_count                             0.000000\n",
       "attributes_goodforkids                   0.259743\n",
       "is_open                                  0.000000\n",
       "attributes_restaurantsreservations       0.268462\n",
       "attributes_caters                        0.414482\n",
       "attributes_noiselevel                    0.350843\n",
       "attributes_restaurantstableservice       0.761391\n",
       "attributes_restaurantstakeout            0.153357\n",
       "attributes_restaurantspricerange2        0.050906\n",
       "attributes_outdoorseating                0.218061\n",
       "attributes_bikeparking                   0.213781\n",
       "attributes_hastv                         0.290473\n",
       "attributes_wifi                          0.318784\n",
       "attributes_alcohol                       0.298474\n",
       "attributes_restaurantsattire             0.314743\n",
       "attributes_restaurantsgoodforgroups      0.239965\n",
       "attributes_restaurantsdelivery           0.273034\n",
       "attributes_businessacceptscreditcards    0.358100\n",
       "attributes_businessacceptsbitcoin        0.945000\n",
       "attributes_goodfordancing                0.939311\n",
       "attributes_coatcheck                     0.955048\n",
       "attributes_happyhour                     0.931203\n",
       "attributes_wheelchairaccessible          0.862380\n",
       "attributes_dogsallowed                   0.936201\n",
       "attributes_drivethru                     0.952204\n",
       "attributes_smoking                       0.957786\n",
       "restaurant                               0.000000\n",
       "dtype: float64"
      ]
     },
     "execution_count": 8,
     "metadata": {},
     "output_type": "execute_result"
    }
   ],
   "source": [
    "np.mean(dataframe.isnull(), axis=0)"
   ]
  },
  {
   "cell_type": "code",
   "execution_count": 9,
   "metadata": {},
   "outputs": [
    {
     "data": {
      "text/plain": [
       "business_id                              37618\n",
       "city                                       552\n",
       "state                                       11\n",
       "postal_code                               7175\n",
       "latitude                                 34993\n",
       "longitude                                34729\n",
       "review_count                                76\n",
       "attributes_goodforkids                       3\n",
       "is_open                                      2\n",
       "attributes_restaurantsreservations           3\n",
       "attributes_caters                            3\n",
       "attributes_noiselevel                        9\n",
       "attributes_restaurantstableservice           3\n",
       "attributes_restaurantstakeout                3\n",
       "attributes_restaurantspricerange2            5\n",
       "attributes_outdoorseating                    3\n",
       "attributes_bikeparking                       3\n",
       "attributes_hastv                             3\n",
       "attributes_wifi                              7\n",
       "attributes_alcohol                           7\n",
       "attributes_restaurantsattire                 7\n",
       "attributes_restaurantsgoodforgroups          3\n",
       "attributes_restaurantsdelivery               3\n",
       "attributes_businessacceptscreditcards        3\n",
       "attributes_businessacceptsbitcoin            2\n",
       "attributes_goodfordancing                    3\n",
       "attributes_coatcheck                         3\n",
       "attributes_happyhour                         3\n",
       "attributes_wheelchairaccessible              3\n",
       "attributes_dogsallowed                       3\n",
       "attributes_drivethru                         2\n",
       "attributes_smoking                           7\n",
       "restaurant                                   1\n",
       "dtype: int64"
      ]
     },
     "execution_count": 9,
     "metadata": {},
     "output_type": "execute_result"
    }
   ],
   "source": [
    "dataframe.nunique()"
   ]
  },
  {
   "cell_type": "code",
   "execution_count": 10,
   "metadata": {},
   "outputs": [
    {
     "data": {
      "text/plain": [
       "u'no'         762\n",
       "u'outdoor'    636\n",
       "u'yes'        173\n",
       "'no'            8\n",
       "'outdoor'       4\n",
       "None            4\n",
       "'yes'           1\n",
       "Name: attributes_smoking, dtype: int64"
      ]
     },
     "execution_count": 10,
     "metadata": {},
     "output_type": "execute_result"
    }
   ],
   "source": [
    "dataframe.attributes_restaurantsreservations.value_counts()\n",
    "dataframe.attributes_smoking.value_counts()"
   ]
  },
  {
   "cell_type": "code",
   "execution_count": 11,
   "metadata": {},
   "outputs": [],
   "source": [
    "list_to_strip=[\n",
    "    'attributes_alcohol',\n",
    "    'attributes_restaurantsattire',\n",
    "    'attributes_wifi',\n",
    "    'attributes_smoking',\n",
    "    'attributes_noiselevel',\n",
    "              ]\n",
    "dataframe2=dataframe.copy()\n",
    "for col in list_to_strip:\n",
    "    dataframe2[col]=dataframe2[col].str.strip(\"u\\'\")"
   ]
  },
  {
   "cell_type": "code",
   "execution_count": 12,
   "metadata": {},
   "outputs": [
    {
     "name": "stderr",
     "output_type": "stream",
     "text": [
      "/home/will/anaconda3/envs/learn-env/lib/python3.6/site-packages/pandas/core/ops/__init__.py:1115: FutureWarning: elementwise comparison failed; returning scalar instead, but in the future will perform elementwise comparison\n",
      "  result = method(y)\n"
     ]
    }
   ],
   "source": [
    "for col in columns_business:\n",
    "    dataframe2[col]=dataframe2[col].where(dataframe2[col]!='None')\n",
    "    dataframe2[col]=dataframe2[col].where(dataframe2[col]!='none')\n"
   ]
  },
  {
   "cell_type": "code",
   "execution_count": null,
   "metadata": {},
   "outputs": [],
   "source": []
  },
  {
   "cell_type": "code",
   "execution_count": 13,
   "metadata": {},
   "outputs": [
    {
     "data": {
      "text/plain": [
       "4"
      ]
     },
     "execution_count": 13,
     "metadata": {},
     "output_type": "execute_result"
    }
   ],
   "source": [
    "dataframe2.attributes_restaurantstakeout.nunique(dropna=False)"
   ]
  },
  {
   "cell_type": "markdown",
   "metadata": {},
   "source": []
  },
  {
   "cell_type": "code",
   "execution_count": null,
   "metadata": {},
   "outputs": [],
   "source": []
  },
  {
   "cell_type": "code",
   "execution_count": 14,
   "metadata": {},
   "outputs": [
    {
     "data": {
      "text/plain": [
       "True     29382\n",
       "NaN       5786\n",
       "False     2450\n",
       "Name: attributes_restaurantstakeout, dtype: int64"
      ]
     },
     "execution_count": 14,
     "metadata": {},
     "output_type": "execute_result"
    }
   ],
   "source": [
    "dataframe2.attributes_restaurantstakeout.value_counts(dropna=False)\n"
   ]
  },
  {
   "cell_type": "code",
   "execution_count": null,
   "metadata": {},
   "outputs": [],
   "source": []
  },
  {
   "cell_type": "code",
   "execution_count": 15,
   "metadata": {},
   "outputs": [
    {
     "data": {
      "text/html": [
       "<div>\n",
       "<style scoped>\n",
       "    .dataframe tbody tr th:only-of-type {\n",
       "        vertical-align: middle;\n",
       "    }\n",
       "\n",
       "    .dataframe tbody tr th {\n",
       "        vertical-align: top;\n",
       "    }\n",
       "\n",
       "    .dataframe thead th {\n",
       "        text-align: right;\n",
       "    }\n",
       "</style>\n",
       "<table border=\"1\" class=\"dataframe\">\n",
       "  <thead>\n",
       "    <tr style=\"text-align: right;\">\n",
       "      <th></th>\n",
       "      <th>business_id</th>\n",
       "      <th>city</th>\n",
       "      <th>state</th>\n",
       "      <th>postal_code</th>\n",
       "      <th>latitude</th>\n",
       "      <th>longitude</th>\n",
       "      <th>review_count</th>\n",
       "      <th>attributes_goodforkids</th>\n",
       "      <th>is_open</th>\n",
       "      <th>attributes_restaurantsreservations</th>\n",
       "      <th>...</th>\n",
       "      <th>attributes_businessacceptscreditcards</th>\n",
       "      <th>attributes_businessacceptsbitcoin</th>\n",
       "      <th>attributes_goodfordancing</th>\n",
       "      <th>attributes_coatcheck</th>\n",
       "      <th>attributes_happyhour</th>\n",
       "      <th>attributes_wheelchairaccessible</th>\n",
       "      <th>attributes_dogsallowed</th>\n",
       "      <th>attributes_drivethru</th>\n",
       "      <th>attributes_smoking</th>\n",
       "      <th>restaurant</th>\n",
       "    </tr>\n",
       "  </thead>\n",
       "  <tbody>\n",
       "    <tr>\n",
       "      <td>0</td>\n",
       "      <td>03bL5yYHb-chhJwyeSAkfQ</td>\n",
       "      <td>Montréal</td>\n",
       "      <td>QC</td>\n",
       "      <td>H3H 2T5</td>\n",
       "      <td>45.4958037</td>\n",
       "      <td>-73.5804942</td>\n",
       "      <td>25</td>\n",
       "      <td>True</td>\n",
       "      <td>1</td>\n",
       "      <td>True</td>\n",
       "      <td>...</td>\n",
       "      <td>None</td>\n",
       "      <td>None</td>\n",
       "      <td>None</td>\n",
       "      <td>None</td>\n",
       "      <td>None</td>\n",
       "      <td>False</td>\n",
       "      <td>False</td>\n",
       "      <td>None</td>\n",
       "      <td>None</td>\n",
       "      <td>True</td>\n",
       "    </tr>\n",
       "    <tr>\n",
       "      <td>1</td>\n",
       "      <td>0cWaLXoq8CwSwbThhKBhtQ</td>\n",
       "      <td>Calgary</td>\n",
       "      <td>AB</td>\n",
       "      <td>T3B 0N1</td>\n",
       "      <td>51.07224045</td>\n",
       "      <td>-114.1630555977</td>\n",
       "      <td>11</td>\n",
       "      <td>True</td>\n",
       "      <td>1</td>\n",
       "      <td>True</td>\n",
       "      <td>...</td>\n",
       "      <td>None</td>\n",
       "      <td>None</td>\n",
       "      <td>None</td>\n",
       "      <td>None</td>\n",
       "      <td>None</td>\n",
       "      <td>None</td>\n",
       "      <td>None</td>\n",
       "      <td>None</td>\n",
       "      <td>None</td>\n",
       "      <td>True</td>\n",
       "    </tr>\n",
       "    <tr>\n",
       "      <td>2</td>\n",
       "      <td>1PnHQEOXnxosKYhB86Ou7A</td>\n",
       "      <td>Scarborough</td>\n",
       "      <td>ON</td>\n",
       "      <td>M1S 3P6</td>\n",
       "      <td>43.7837428</td>\n",
       "      <td>-79.2531863</td>\n",
       "      <td>24</td>\n",
       "      <td>True</td>\n",
       "      <td>1</td>\n",
       "      <td>False</td>\n",
       "      <td>...</td>\n",
       "      <td>None</td>\n",
       "      <td>None</td>\n",
       "      <td>None</td>\n",
       "      <td>None</td>\n",
       "      <td>None</td>\n",
       "      <td>None</td>\n",
       "      <td>None</td>\n",
       "      <td>None</td>\n",
       "      <td>None</td>\n",
       "      <td>True</td>\n",
       "    </tr>\n",
       "    <tr>\n",
       "      <td>3</td>\n",
       "      <td>2JYszoQKgJj6pPbaN7cLwQ</td>\n",
       "      <td>Pittsburgh</td>\n",
       "      <td>PA</td>\n",
       "      <td>15212</td>\n",
       "      <td>40.4458370011</td>\n",
       "      <td>-80.0113584101</td>\n",
       "      <td>34</td>\n",
       "      <td>False</td>\n",
       "      <td>0</td>\n",
       "      <td>True</td>\n",
       "      <td>...</td>\n",
       "      <td>True</td>\n",
       "      <td>False</td>\n",
       "      <td>None</td>\n",
       "      <td>None</td>\n",
       "      <td>None</td>\n",
       "      <td>True</td>\n",
       "      <td>False</td>\n",
       "      <td>None</td>\n",
       "      <td>None</td>\n",
       "      <td>True</td>\n",
       "    </tr>\n",
       "    <tr>\n",
       "      <td>4</td>\n",
       "      <td>8jl0zzTGajfSDpdVDPYn6Q</td>\n",
       "      <td>Markham</td>\n",
       "      <td>ON</td>\n",
       "      <td>L6C 1Y9</td>\n",
       "      <td>43.8704482756</td>\n",
       "      <td>-79.361412512</td>\n",
       "      <td>70</td>\n",
       "      <td>True</td>\n",
       "      <td>1</td>\n",
       "      <td>True</td>\n",
       "      <td>...</td>\n",
       "      <td>None</td>\n",
       "      <td>None</td>\n",
       "      <td>None</td>\n",
       "      <td>None</td>\n",
       "      <td>None</td>\n",
       "      <td>None</td>\n",
       "      <td>None</td>\n",
       "      <td>None</td>\n",
       "      <td>None</td>\n",
       "      <td>True</td>\n",
       "    </tr>\n",
       "  </tbody>\n",
       "</table>\n",
       "<p>5 rows × 33 columns</p>\n",
       "</div>"
      ],
      "text/plain": [
       "              business_id         city state postal_code       latitude  \\\n",
       "0  03bL5yYHb-chhJwyeSAkfQ     Montréal    QC     H3H 2T5     45.4958037   \n",
       "1  0cWaLXoq8CwSwbThhKBhtQ      Calgary    AB     T3B 0N1    51.07224045   \n",
       "2  1PnHQEOXnxosKYhB86Ou7A  Scarborough    ON     M1S 3P6     43.7837428   \n",
       "3  2JYszoQKgJj6pPbaN7cLwQ   Pittsburgh    PA       15212  40.4458370011   \n",
       "4  8jl0zzTGajfSDpdVDPYn6Q      Markham    ON     L6C 1Y9  43.8704482756   \n",
       "\n",
       "         longitude  review_count attributes_goodforkids is_open  \\\n",
       "0      -73.5804942            25                   True       1   \n",
       "1  -114.1630555977            11                   True       1   \n",
       "2      -79.2531863            24                   True       1   \n",
       "3   -80.0113584101            34                  False       0   \n",
       "4    -79.361412512            70                   True       1   \n",
       "\n",
       "  attributes_restaurantsreservations  ...  \\\n",
       "0                               True  ...   \n",
       "1                               True  ...   \n",
       "2                              False  ...   \n",
       "3                               True  ...   \n",
       "4                               True  ...   \n",
       "\n",
       "  attributes_businessacceptscreditcards attributes_businessacceptsbitcoin  \\\n",
       "0                                  None                              None   \n",
       "1                                  None                              None   \n",
       "2                                  None                              None   \n",
       "3                                  True                             False   \n",
       "4                                  None                              None   \n",
       "\n",
       "  attributes_goodfordancing attributes_coatcheck attributes_happyhour  \\\n",
       "0                      None                 None                 None   \n",
       "1                      None                 None                 None   \n",
       "2                      None                 None                 None   \n",
       "3                      None                 None                 None   \n",
       "4                      None                 None                 None   \n",
       "\n",
       "  attributes_wheelchairaccessible attributes_dogsallowed attributes_drivethru  \\\n",
       "0                           False                  False                 None   \n",
       "1                            None                   None                 None   \n",
       "2                            None                   None                 None   \n",
       "3                            True                  False                 None   \n",
       "4                            None                   None                 None   \n",
       "\n",
       "  attributes_smoking restaurant  \n",
       "0               None       True  \n",
       "1               None       True  \n",
       "2               None       True  \n",
       "3               None       True  \n",
       "4               None       True  \n",
       "\n",
       "[5 rows x 33 columns]"
      ]
     },
     "execution_count": 15,
     "metadata": {},
     "output_type": "execute_result"
    }
   ],
   "source": [
    "dataframe2.head()"
   ]
  },
  {
   "cell_type": "code",
   "execution_count": 16,
   "metadata": {},
   "outputs": [],
   "source": [
    "cols=dataframe.columns\n",
    "cols=cols.drop(['review_count','restaurant','latitude','longitude','business_id'])"
   ]
  },
  {
   "cell_type": "code",
   "execution_count": 17,
   "metadata": {},
   "outputs": [],
   "source": [
    "\n",
    "dataframe2.latitude=dataframe2.latitude.astype(float)\n",
    "dataframe2.longitude=dataframe2.longitude.astype(float)"
   ]
  },
  {
   "cell_type": "code",
   "execution_count": 18,
   "metadata": {},
   "outputs": [
    {
     "data": {
      "text/plain": [
       "Index(['state', 'attributes_goodforkids', 'is_open',\n",
       "       'attributes_restaurantsreservations', 'attributes_caters',\n",
       "       'attributes_noiselevel', 'attributes_restaurantstableservice',\n",
       "       'attributes_restaurantstakeout', 'attributes_restaurantspricerange2',\n",
       "       'attributes_outdoorseating', 'attributes_bikeparking',\n",
       "       'attributes_hastv', 'attributes_wifi', 'attributes_alcohol',\n",
       "       'attributes_restaurantsattire', 'attributes_restaurantsgoodforgroups',\n",
       "       'attributes_restaurantsdelivery',\n",
       "       'attributes_businessacceptscreditcards',\n",
       "       'attributes_businessacceptsbitcoin', 'attributes_goodfordancing',\n",
       "       'attributes_coatcheck', 'attributes_happyhour',\n",
       "       'attributes_wheelchairaccessible', 'attributes_dogsallowed',\n",
       "       'attributes_drivethru', 'attributes_smoking'],\n",
       "      dtype='object')"
      ]
     },
     "execution_count": 18,
     "metadata": {},
     "output_type": "execute_result"
    }
   ],
   "source": [
    "categorical_features=cols\n",
    "categorical_features"
   ]
  },
  {
   "cell_type": "code",
   "execution_count": 19,
   "metadata": {},
   "outputs": [],
   "source": [
    "numerical_features=['review_count','latitude','longitude']"
   ]
  },
  {
   "cell_type": "code",
   "execution_count": 20,
   "metadata": {},
   "outputs": [],
   "source": [
    "preprocess = make_column_transformer(\n",
    "    (StandardScaler(), numerical_features),\n",
    "    (OneHotEncoder(drop='first'), categorical_features))"
   ]
  },
  {
   "cell_type": "code",
   "execution_count": 21,
   "metadata": {},
   "outputs": [],
   "source": [
    "dataframe2[categorical_features]=dataframe2[categorical_features].fillna(9)\n"
   ]
  },
  {
   "cell_type": "code",
   "execution_count": 22,
   "metadata": {},
   "outputs": [],
   "source": [
    "# preprocess.fit_transform(dataframe).toarray()[:5]\n",
    "dataframe2[categorical_features]=dataframe2[categorical_features].astype(str)"
   ]
  },
  {
   "cell_type": "code",
   "execution_count": 23,
   "metadata": {},
   "outputs": [
    {
     "data": {
      "text/plain": [
       "OneHotEncoder(categorical_features=None, categories=None, drop='first',\n",
       "              dtype=<class 'numpy.float64'>, handle_unknown='error',\n",
       "              n_values=None, sparse=True)"
      ]
     },
     "execution_count": 23,
     "metadata": {},
     "output_type": "execute_result"
    }
   ],
   "source": [
    "ohe=OneHotEncoder(drop='first')\n",
    "ohe.fit(dataframe2[categorical_features])"
   ]
  },
  {
   "cell_type": "code",
   "execution_count": 24,
   "metadata": {},
   "outputs": [
    {
     "data": {
      "text/plain": [
       "<37618x66 sparse matrix of type '<class 'numpy.float64'>'\n",
       "\twith 479656 stored elements in Compressed Sparse Row format>"
      ]
     },
     "execution_count": 24,
     "metadata": {},
     "output_type": "execute_result"
    }
   ],
   "source": [
    "ohe.transform(dataframe2[categorical_features])"
   ]
  },
  {
   "cell_type": "code",
   "execution_count": 25,
   "metadata": {},
   "outputs": [
    {
     "data": {
      "text/html": [
       "<div>\n",
       "<style scoped>\n",
       "    .dataframe tbody tr th:only-of-type {\n",
       "        vertical-align: middle;\n",
       "    }\n",
       "\n",
       "    .dataframe tbody tr th {\n",
       "        vertical-align: top;\n",
       "    }\n",
       "\n",
       "    .dataframe thead th {\n",
       "        text-align: right;\n",
       "    }\n",
       "</style>\n",
       "<table border=\"1\" class=\"dataframe\">\n",
       "  <thead>\n",
       "    <tr style=\"text-align: right;\">\n",
       "      <th></th>\n",
       "      <th>state</th>\n",
       "      <th>attributes_goodforkids</th>\n",
       "      <th>is_open</th>\n",
       "      <th>attributes_restaurantsreservations</th>\n",
       "      <th>attributes_caters</th>\n",
       "      <th>attributes_noiselevel</th>\n",
       "      <th>attributes_restaurantstableservice</th>\n",
       "      <th>attributes_restaurantstakeout</th>\n",
       "      <th>attributes_restaurantspricerange2</th>\n",
       "      <th>attributes_outdoorseating</th>\n",
       "      <th>...</th>\n",
       "      <th>attributes_restaurantsdelivery</th>\n",
       "      <th>attributes_businessacceptscreditcards</th>\n",
       "      <th>attributes_businessacceptsbitcoin</th>\n",
       "      <th>attributes_goodfordancing</th>\n",
       "      <th>attributes_coatcheck</th>\n",
       "      <th>attributes_happyhour</th>\n",
       "      <th>attributes_wheelchairaccessible</th>\n",
       "      <th>attributes_dogsallowed</th>\n",
       "      <th>attributes_drivethru</th>\n",
       "      <th>attributes_smoking</th>\n",
       "    </tr>\n",
       "  </thead>\n",
       "  <tbody>\n",
       "    <tr>\n",
       "      <td>0</td>\n",
       "      <td>QC</td>\n",
       "      <td>True</td>\n",
       "      <td>1</td>\n",
       "      <td>True</td>\n",
       "      <td>True</td>\n",
       "      <td>average</td>\n",
       "      <td>False</td>\n",
       "      <td>True</td>\n",
       "      <td>1</td>\n",
       "      <td>True</td>\n",
       "      <td>...</td>\n",
       "      <td>True</td>\n",
       "      <td>9</td>\n",
       "      <td>9</td>\n",
       "      <td>9</td>\n",
       "      <td>9</td>\n",
       "      <td>9</td>\n",
       "      <td>False</td>\n",
       "      <td>False</td>\n",
       "      <td>9</td>\n",
       "      <td>9</td>\n",
       "    </tr>\n",
       "    <tr>\n",
       "      <td>1</td>\n",
       "      <td>AB</td>\n",
       "      <td>True</td>\n",
       "      <td>1</td>\n",
       "      <td>True</td>\n",
       "      <td>9</td>\n",
       "      <td>9</td>\n",
       "      <td>9</td>\n",
       "      <td>True</td>\n",
       "      <td>2</td>\n",
       "      <td>False</td>\n",
       "      <td>...</td>\n",
       "      <td>True</td>\n",
       "      <td>9</td>\n",
       "      <td>9</td>\n",
       "      <td>9</td>\n",
       "      <td>9</td>\n",
       "      <td>9</td>\n",
       "      <td>9</td>\n",
       "      <td>9</td>\n",
       "      <td>9</td>\n",
       "      <td>9</td>\n",
       "    </tr>\n",
       "    <tr>\n",
       "      <td>2</td>\n",
       "      <td>ON</td>\n",
       "      <td>True</td>\n",
       "      <td>1</td>\n",
       "      <td>False</td>\n",
       "      <td>9</td>\n",
       "      <td>9</td>\n",
       "      <td>9</td>\n",
       "      <td>True</td>\n",
       "      <td>2</td>\n",
       "      <td>True</td>\n",
       "      <td>...</td>\n",
       "      <td>False</td>\n",
       "      <td>9</td>\n",
       "      <td>9</td>\n",
       "      <td>9</td>\n",
       "      <td>9</td>\n",
       "      <td>9</td>\n",
       "      <td>9</td>\n",
       "      <td>9</td>\n",
       "      <td>9</td>\n",
       "      <td>9</td>\n",
       "    </tr>\n",
       "    <tr>\n",
       "      <td>3</td>\n",
       "      <td>PA</td>\n",
       "      <td>False</td>\n",
       "      <td>0</td>\n",
       "      <td>True</td>\n",
       "      <td>True</td>\n",
       "      <td>average</td>\n",
       "      <td>True</td>\n",
       "      <td>True</td>\n",
       "      <td>2</td>\n",
       "      <td>True</td>\n",
       "      <td>...</td>\n",
       "      <td>False</td>\n",
       "      <td>True</td>\n",
       "      <td>False</td>\n",
       "      <td>9</td>\n",
       "      <td>9</td>\n",
       "      <td>9</td>\n",
       "      <td>True</td>\n",
       "      <td>False</td>\n",
       "      <td>9</td>\n",
       "      <td>9</td>\n",
       "    </tr>\n",
       "    <tr>\n",
       "      <td>4</td>\n",
       "      <td>ON</td>\n",
       "      <td>True</td>\n",
       "      <td>1</td>\n",
       "      <td>True</td>\n",
       "      <td>False</td>\n",
       "      <td>quiet</td>\n",
       "      <td>9</td>\n",
       "      <td>True</td>\n",
       "      <td>2</td>\n",
       "      <td>False</td>\n",
       "      <td>...</td>\n",
       "      <td>False</td>\n",
       "      <td>9</td>\n",
       "      <td>9</td>\n",
       "      <td>9</td>\n",
       "      <td>9</td>\n",
       "      <td>9</td>\n",
       "      <td>9</td>\n",
       "      <td>9</td>\n",
       "      <td>9</td>\n",
       "      <td>9</td>\n",
       "    </tr>\n",
       "  </tbody>\n",
       "</table>\n",
       "<p>5 rows × 26 columns</p>\n",
       "</div>"
      ],
      "text/plain": [
       "  state attributes_goodforkids is_open attributes_restaurantsreservations  \\\n",
       "0    QC                   True       1                               True   \n",
       "1    AB                   True       1                               True   \n",
       "2    ON                   True       1                              False   \n",
       "3    PA                  False       0                               True   \n",
       "4    ON                   True       1                               True   \n",
       "\n",
       "  attributes_caters attributes_noiselevel attributes_restaurantstableservice  \\\n",
       "0              True               average                              False   \n",
       "1                 9                     9                                  9   \n",
       "2                 9                     9                                  9   \n",
       "3              True               average                               True   \n",
       "4             False                 quiet                                  9   \n",
       "\n",
       "  attributes_restaurantstakeout attributes_restaurantspricerange2  \\\n",
       "0                          True                                 1   \n",
       "1                          True                                 2   \n",
       "2                          True                                 2   \n",
       "3                          True                                 2   \n",
       "4                          True                                 2   \n",
       "\n",
       "  attributes_outdoorseating  ... attributes_restaurantsdelivery  \\\n",
       "0                      True  ...                           True   \n",
       "1                     False  ...                           True   \n",
       "2                      True  ...                          False   \n",
       "3                      True  ...                          False   \n",
       "4                     False  ...                          False   \n",
       "\n",
       "  attributes_businessacceptscreditcards attributes_businessacceptsbitcoin  \\\n",
       "0                                     9                                 9   \n",
       "1                                     9                                 9   \n",
       "2                                     9                                 9   \n",
       "3                                  True                             False   \n",
       "4                                     9                                 9   \n",
       "\n",
       "  attributes_goodfordancing attributes_coatcheck attributes_happyhour  \\\n",
       "0                         9                    9                    9   \n",
       "1                         9                    9                    9   \n",
       "2                         9                    9                    9   \n",
       "3                         9                    9                    9   \n",
       "4                         9                    9                    9   \n",
       "\n",
       "  attributes_wheelchairaccessible attributes_dogsallowed attributes_drivethru  \\\n",
       "0                           False                  False                    9   \n",
       "1                               9                      9                    9   \n",
       "2                               9                      9                    9   \n",
       "3                            True                  False                    9   \n",
       "4                               9                      9                    9   \n",
       "\n",
       "  attributes_smoking  \n",
       "0                  9  \n",
       "1                  9  \n",
       "2                  9  \n",
       "3                  9  \n",
       "4                  9  \n",
       "\n",
       "[5 rows x 26 columns]"
      ]
     },
     "execution_count": 25,
     "metadata": {},
     "output_type": "execute_result"
    }
   ],
   "source": [
    "dataframe2[categorical_features].head()"
   ]
  },
  {
   "cell_type": "code",
   "execution_count": 26,
   "metadata": {},
   "outputs": [
    {
     "data": {
      "text/plain": [
       "<37618x69 sparse matrix of type '<class 'numpy.float64'>'\n",
       "\twith 592510 stored elements in Compressed Sparse Row format>"
      ]
     },
     "execution_count": 26,
     "metadata": {},
     "output_type": "execute_result"
    }
   ],
   "source": [
    "preprocess = make_column_transformer(\n",
    "    (StandardScaler(), numerical_features),\n",
    "    (OneHotEncoder(drop='first'), categorical_features))\n",
    "preprocess.fit_transform(dataframe2)"
   ]
  },
  {
   "cell_type": "code",
   "execution_count": 27,
   "metadata": {},
   "outputs": [],
   "source": [
    "pipe = Pipeline([('ct', preprocess),\n",
    "                 ('clf', LogisticRegression(random_state=42))])\n",
    "\n",
    "grid_params_lr = [{'clf__penalty': ['l1', 'l2'],\n",
    "                   'clf__C': [.001,.01,.1,1,10,100,1000],\n",
    "                  }] \n"
   ]
  },
  {
   "cell_type": "code",
   "execution_count": 28,
   "metadata": {},
   "outputs": [],
   "source": [
    "gridsearch = GridSearchCV(estimator=pipe,\n",
    "\t\t\tparam_grid=grid_params_lr,\n",
    "\t\t\tscoring='accuracy',\n",
    "            return_train_score=True,\n",
    "\t\t\tcv=5)"
   ]
  },
  {
   "cell_type": "code",
   "execution_count": 31,
   "metadata": {},
   "outputs": [
    {
     "data": {
      "text/plain": [
       "Index(['business_id', 'city', 'state', 'postal_code', 'latitude', 'longitude',\n",
       "       'review_count', 'attributes_goodforkids', 'is_open',\n",
       "       'attributes_restaurantsreservations', 'attributes_caters',\n",
       "       'attributes_noiselevel', 'attributes_restaurantstableservice',\n",
       "       'attributes_restaurantstakeout', 'attributes_restaurantspricerange2',\n",
       "       'attributes_outdoorseating', 'attributes_bikeparking',\n",
       "       'attributes_hastv', 'attributes_wifi', 'attributes_alcohol',\n",
       "       'attributes_restaurantsattire', 'attributes_restaurantsgoodforgroups',\n",
       "       'attributes_restaurantsdelivery',\n",
       "       'attributes_businessacceptscreditcards',\n",
       "       'attributes_businessacceptsbitcoin', 'attributes_goodfordancing',\n",
       "       'attributes_coatcheck', 'attributes_happyhour',\n",
       "       'attributes_wheelchairaccessible', 'attributes_dogsallowed',\n",
       "       'attributes_drivethru', 'attributes_smoking', 'restaurant'],\n",
       "      dtype='object')"
      ]
     },
     "execution_count": 31,
     "metadata": {},
     "output_type": "execute_result"
    }
   ],
   "source": [
    "dataframe2.columns\n",
    "data=dataframe2.drop(['business_id','restaurant',''])\n",
    "target"
   ]
  },
  {
   "cell_type": "code",
   "execution_count": 30,
   "metadata": {},
   "outputs": [
    {
     "ename": "NameError",
     "evalue": "name 'iris' is not defined",
     "output_type": "error",
     "traceback": [
      "\u001b[0;31m---------------------------------------------------------------------------\u001b[0m",
      "\u001b[0;31mNameError\u001b[0m                                 Traceback (most recent call last)",
      "\u001b[0;32m<ipython-input-30-b9fe425a32af>\u001b[0m in \u001b[0;36m<module>\u001b[0;34m()\u001b[0m\n\u001b[0;32m----> 1\u001b[0;31m \u001b[0mX_train\u001b[0m\u001b[0;34m,\u001b[0m \u001b[0mX_test\u001b[0m\u001b[0;34m,\u001b[0m \u001b[0my_train\u001b[0m\u001b[0;34m,\u001b[0m \u001b[0my_test\u001b[0m \u001b[0;34m=\u001b[0m \u001b[0mtrain_test_split\u001b[0m\u001b[0;34m(\u001b[0m\u001b[0miris\u001b[0m\u001b[0;34m.\u001b[0m\u001b[0mdata\u001b[0m\u001b[0;34m,\u001b[0m \u001b[0miris\u001b[0m\u001b[0;34m.\u001b[0m\u001b[0mtarget\u001b[0m\u001b[0;34m,\u001b[0m \u001b[0mtest_size\u001b[0m\u001b[0;34m=\u001b[0m\u001b[0;36m0.2\u001b[0m\u001b[0;34m,\u001b[0m \u001b[0mrandom_state\u001b[0m\u001b[0;34m=\u001b[0m\u001b[0;36m42\u001b[0m\u001b[0;34m)\u001b[0m\u001b[0;34m\u001b[0m\u001b[0m\n\u001b[0m",
      "\u001b[0;31mNameError\u001b[0m: name 'iris' is not defined"
     ]
    }
   ],
   "source": [
    "#X_train, X_test, y_train, y_test = train_test_split(iris.data, iris.target, test_size=0.2, random_state=42)"
   ]
  },
  {
   "cell_type": "code",
   "execution_count": null,
   "metadata": {},
   "outputs": [],
   "source": [
    "# gridsearch.fit(X_train, y_train);"
   ]
  },
  {
   "cell_type": "code",
   "execution_count": null,
   "metadata": {},
   "outputs": [],
   "source": [
    "cross_val = pd.DataFrame(search.cv_results_)\n",
    "cross_val2 = cross_val.sort_values('rank_test_score')\n",
    "cross_val2"
   ]
  },
  {
   "cell_type": "code",
   "execution_count": null,
   "metadata": {},
   "outputs": [],
   "source": []
  },
  {
   "cell_type": "code",
   "execution_count": null,
   "metadata": {},
   "outputs": [],
   "source": [
    "dataframe2"
   ]
  },
  {
   "cell_type": "code",
   "execution_count": null,
   "metadata": {},
   "outputs": [],
   "source": []
  },
  {
   "cell_type": "code",
   "execution_count": null,
   "metadata": {},
   "outputs": [],
   "source": []
  },
  {
   "cell_type": "code",
   "execution_count": null,
   "metadata": {},
   "outputs": [],
   "source": []
  },
  {
   "cell_type": "code",
   "execution_count": null,
   "metadata": {},
   "outputs": [],
   "source": []
  },
  {
   "cell_type": "code",
   "execution_count": null,
   "metadata": {},
   "outputs": [],
   "source": []
  },
  {
   "cell_type": "code",
   "execution_count": null,
   "metadata": {},
   "outputs": [],
   "source": []
  },
  {
   "cell_type": "code",
   "execution_count": null,
   "metadata": {},
   "outputs": [],
   "source": []
  },
  {
   "cell_type": "code",
   "execution_count": null,
   "metadata": {},
   "outputs": [],
   "source": []
  },
  {
   "cell_type": "code",
   "execution_count": null,
   "metadata": {},
   "outputs": [],
   "source": []
  },
  {
   "cell_type": "code",
   "execution_count": null,
   "metadata": {},
   "outputs": [],
   "source": []
  }
 ],
 "metadata": {
  "kernelspec": {
   "display_name": "Python [conda env:learn-env] *",
   "language": "python",
   "name": "conda-env-learn-env-py"
  },
  "language_info": {
   "codemirror_mode": {
    "name": "ipython",
    "version": 3
   },
   "file_extension": ".py",
   "mimetype": "text/x-python",
   "name": "python",
   "nbconvert_exporter": "python",
   "pygments_lexer": "ipython3",
   "version": "3.6.6"
  }
 },
 "nbformat": 4,
 "nbformat_minor": 4
}
