{
 "cells": [
  {
   "cell_type": "markdown",
   "metadata": {},
   "source": []
  },
  {
   "cell_type": "code",
   "execution_count": 5,
   "metadata": {},
   "outputs": [],
   "source": [
    "# !pip install psycopg2"
   ]
  },
  {
   "cell_type": "code",
   "execution_count": 23,
   "metadata": {},
   "outputs": [],
   "source": [
    "import pandas as pd\n",
    "import numpy as np\n",
    "import psycopg2 as pg\n",
    "from matplotlib import pyplot as plt\n",
    "%matplotlib inline\n",
    "import seaborn as sns"
   ]
  },
  {
   "cell_type": "code",
   "execution_count": 24,
   "metadata": {},
   "outputs": [],
   "source": [
    "import sql_server_connection\n",
    "database, user, password, host, port = sql_server_connection.connection()\n",
    "\n",
    "try:\n",
    "    con.close()\n",
    "finally:\n",
    "    con = pg.connect(database=database, user=user, password=password, host=host, port=port)\n",
    "    cur = con.cursor()"
   ]
  },
  {
   "cell_type": "code",
   "execution_count": 17,
   "metadata": {},
   "outputs": [],
   "source": [
    "# cur.execute(f\"SELECT REVIEW_COUNT FROM BUSINESS WHERE restaurant IS true\")"
   ]
  },
  {
   "cell_type": "markdown",
   "metadata": {},
   "source": [
    "# Pipe data into Pandas"
   ]
  },
  {
   "cell_type": "code",
   "execution_count": 25,
   "metadata": {},
   "outputs": [],
   "source": [
    "cur.execute(f\"SELECT REVIEW_COUNT FROM BUSINESS WHERE restaurant IS true\")"
   ]
  },
  {
   "cell_type": "code",
   "execution_count": 36,
   "metadata": {},
   "outputs": [],
   "source": [
    "columns_business = [\n",
    "# 'business_id',\n",
    "# 'name',\n",
    "# 'address',\n",
    "# 'city',\n",
    "'state',\n",
    "# 'postal_code',\n",
    "# 'latitude',\n",
    "# 'longitude',\n",
    "# 'stars',\n",
    "# 'review_count',\n",
    "'attributes_goodforkids',\n",
    "# 'categories',\n",
    "'is_open',\n",
    "# 'hours_monday',\n",
    "# 'hours_tuesday',\n",
    "# 'hours_wednesday',\n",
    "# 'hours_thursday',\n",
    "# 'hours_friday',\n",
    "# 'hours_saturday',\n",
    "# 'hours_sunday',\n",
    "'attributes_restaurantsreservations',\n",
    "# 'attributes_goodformeal',\n",
    "# 'attributes_businessparking',\n",
    "'attributes_caters',\n",
    "'attributes_noiselevel',\n",
    "'attributes_restaurantstableservice',\n",
    "'attributes_restaurantstakeout',\n",
    "'attributes_restaurantspricerange2',\n",
    "'attributes_outdoorseating',\n",
    "'attributes_bikeparking',\n",
    "# 'attributes_ambience',\n",
    "'attributes_hastv',\n",
    "'attributes_wifi',\n",
    "'attributes_alcohol',\n",
    "'attributes_restaurantsattire',\n",
    "'attributes_restaurantsgoodforgroups',\n",
    "'attributes_restaurantsdelivery',\n",
    "'attributes_businessacceptscreditcards',\n",
    "'attributes_businessacceptsbitcoin',\n",
    "'attributes_byappointmentonly',\n",
    "'attributes_acceptsinsurance',\n",
    "# 'attributes_music',\n",
    "'attributes_goodfordancing',\n",
    "'attributes_coatcheck',\n",
    "'attributes_happyhour',\n",
    "# 'attributes_bestnights',\n",
    "'attributes_wheelchairaccessible',\n",
    "'attributes_dogsallowed',\n",
    "'attributes_byobcorkage',\n",
    "'attributes_drivethru',\n",
    "'attributes_smoking',\n",
    "'attributes_agesallowed',\n",
    "# 'attributes_hairspecializesin',\n",
    "'attributes_corkage',\n",
    "'attributes_byob',\n",
    "# 'attributes_dietaryrestrictions',\n",
    "'attributes_open24hours',\n",
    "'attributes_restaurantscounterservice',\n",
    "'restaurant']"
   ]
  },
  {
   "cell_type": "code",
   "execution_count": null,
   "metadata": {},
   "outputs": [],
   "source": [
    "feature_values = []\n",
    "for column in columns_business:\n",
    "    cur.execute(\"\"\"\n",
    "    SELECT attributes_goodforkids, count(*)\n",
    "    FROM business\n",
    "    WHERE restaurant IS TRUE\n",
    "    GROUP BY attributes_goodforkids;\n",
    "            \"\"\")\n",
    "    results = cur.fetchall()\n",
    "\n",
    "    values = {\n",
    "        'type':column,\n",
    "        'value': result[0]\n",
    "        'count_value': result[1]\n",
    "    }\n",
    "    "
   ]
  },
  {
   "cell_type": "code",
   "execution_count": null,
   "metadata": {},
   "outputs": [],
   "source": [
    "[\n",
    "    {\n",
    "        'type': column,\n",
    "    }\n",
    "    for column\n",
    "    in columns_business[0:3]\n",
    "]"
   ]
  },
  {
   "cell_type": "code",
   "execution_count": 28,
   "metadata": {},
   "outputs": [],
   "source": [
    "cur.execute(\"\"\"\n",
    "    SELECT attributes_goodforkids, count(*)\n",
    "    FROM business\n",
    "    WHERE restaurant IS TRUE\n",
    "    GROUP BY attributes_goodforkids;\n",
    "            \"\"\")"
   ]
  },
  {
   "cell_type": "code",
   "execution_count": 29,
   "metadata": {},
   "outputs": [],
   "source": [
    "test = cur.fetchall()"
   ]
  },
  {
   "cell_type": "code",
   "execution_count": 35,
   "metadata": {},
   "outputs": [
    {
     "data": {
      "text/plain": [
       "(None, 29065)"
      ]
     },
     "execution_count": 35,
     "metadata": {},
     "output_type": "execute_result"
    }
   ],
   "source": [
    "test[0]"
   ]
  },
  {
   "cell_type": "markdown",
   "metadata": {},
   "source": [
    "# exploration"
   ]
  },
  {
   "cell_type": "code",
   "execution_count": null,
   "metadata": {},
   "outputs": [],
   "source": []
  }
 ],
 "metadata": {
  "kernelspec": {
   "display_name": "Python 3",
   "language": "python",
   "name": "python3"
  },
  "language_info": {
   "codemirror_mode": {
    "name": "ipython",
    "version": 3
   },
   "file_extension": ".py",
   "mimetype": "text/x-python",
   "name": "python",
   "nbconvert_exporter": "python",
   "pygments_lexer": "ipython3",
   "version": "3.7.3"
  }
 },
 "nbformat": 4,
 "nbformat_minor": 2
}
